{
 "cells": [
  {
   "cell_type": "code",
   "execution_count": 2,
   "metadata": {},
   "outputs": [],
   "source": [
    "import networkx as nx\n",
    "import numpy as np\n",
    "import matplotlib.pyplot as plt\n",
    "%matplotlib inline"
   ]
  },
  {
   "cell_type": "code",
   "execution_count": 3,
   "metadata": {},
   "outputs": [],
   "source": [
    "file = [i.strip() for i in open(\"../data/yeast_graph.txt\", 'r').readlines()]"
   ]
  },
  {
   "cell_type": "code",
   "execution_count": 4,
   "metadata": {},
   "outputs": [],
   "source": [
    "graph = nx.Graph()"
   ]
  },
  {
   "cell_type": "code",
   "execution_count": 5,
   "metadata": {},
   "outputs": [],
   "source": [
    "for line in file:\n",
    "    l = line.split('\\t')\n",
    "    graph.add_edge(l[0], l[1], weight = float(l[2]))"
   ]
  },
  {
   "cell_type": "code",
   "execution_count": 6,
   "metadata": {},
   "outputs": [
    {
     "data": {
      "text/plain": [
       "712"
      ]
     },
     "execution_count": 6,
     "metadata": {},
     "output_type": "execute_result"
    }
   ],
   "source": [
    "graph.number_of_edges()"
   ]
  },
  {
   "cell_type": "code",
   "execution_count": 7,
   "metadata": {},
   "outputs": [
    {
     "data": {
      "text/plain": [
       "300"
      ]
     },
     "execution_count": 7,
     "metadata": {},
     "output_type": "execute_result"
    }
   ],
   "source": [
    "graph.number_of_nodes()"
   ]
  },
  {
   "cell_type": "code",
   "execution_count": 8,
   "metadata": {},
   "outputs": [
    {
     "data": {
      "text/plain": [
       "53"
      ]
     },
     "execution_count": 8,
     "metadata": {},
     "output_type": "execute_result"
    }
   ],
   "source": [
    "nx.number_connected_components(graph)"
   ]
  },
  {
   "cell_type": "markdown",
   "metadata": {},
   "source": [
    "В графе 53 связанные компоненты"
   ]
  },
  {
   "cell_type": "code",
   "execution_count": 9,
   "metadata": {},
   "outputs": [
    {
     "name": "stdout",
     "output_type": "stream",
     "text": [
      "Размеры связных компонент графа:\n",
      "0 4\n",
      "1 19\n",
      "2 104\n",
      "3 3\n",
      "4 3\n",
      "5 2\n",
      "6 2\n",
      "7 30\n",
      "8 3\n",
      "9 3\n",
      "10 2\n",
      "11 6\n",
      "12 7\n",
      "13 2\n",
      "14 6\n",
      "15 10\n",
      "16 2\n",
      "17 3\n",
      "18 4\n",
      "19 2\n",
      "20 3\n",
      "21 2\n",
      "22 4\n",
      "23 2\n",
      "24 3\n",
      "25 6\n",
      "26 5\n",
      "27 2\n",
      "28 2\n",
      "29 2\n",
      "30 2\n",
      "31 2\n",
      "32 2\n",
      "33 2\n",
      "34 2\n",
      "35 2\n",
      "36 2\n",
      "37 3\n",
      "38 4\n",
      "39 2\n",
      "40 2\n",
      "41 2\n",
      "42 2\n",
      "43 2\n",
      "44 5\n",
      "45 2\n",
      "46 2\n",
      "47 2\n",
      "48 2\n",
      "49 2\n",
      "50 2\n",
      "51 2\n",
      "52 2\n"
     ]
    }
   ],
   "source": [
    "print(\"Размеры связных компонент графа:\")\n",
    "for i, comp in enumerate(nx.connected_components(graph)):\n",
    "    print(i, len(comp))"
   ]
  },
  {
   "cell_type": "code",
   "execution_count": 10,
   "metadata": {},
   "outputs": [
    {
     "data": {
      "text/plain": [
       "Text(0.5, 1.0, 'Degrees distribution')"
      ]
     },
     "execution_count": 10,
     "metadata": {},
     "output_type": "execute_result"
    },
    {
     "data": {
      "image/png": "[encoded data removed]",
      "text/plain": [
       "<Figure size 720x432 with 1 Axes>"
      ]
     },
     "metadata": {},
     "output_type": "display_data"
    }
   ],
   "source": [
    "plt.style.use('ggplot')\n",
    "plt.figure(figsize=(10,6))\n",
    "plt.hist(dict(graph.degree).values(), bins=20)\n",
    "plt.title(\"Degrees distribution\")"
   ]
  },
  {
   "cell_type": "code",
   "execution_count": 11,
   "metadata": {},
   "outputs": [
    {
     "ename": "NetworkXError",
     "evalue": "Found infinite path length because the graph is not connected",
     "output_type": "error",
     "traceback": [
      "\u001b[0;31m---------------------------------------------------------------------------\u001b[0m",
      "\u001b[0;31mNetworkXError\u001b[0m                             Traceback (most recent call last)",
      "\u001b[0;32m<ipython-input-11-51413e9d29bf>\u001b[0m in \u001b[0;36m<module>\u001b[0;34m\u001b[0m\n\u001b[0;32m----> 1\u001b[0;31m \u001b[0mnx\u001b[0m\u001b[0;34m.\u001b[0m\u001b[0mdiameter\u001b[0m\u001b[0;34m(\u001b[0m\u001b[0mgraph\u001b[0m\u001b[0;34m)\u001b[0m\u001b[0;34m\u001b[0m\u001b[0;34m\u001b[0m\u001b[0m\n\u001b[0m",
      "\u001b[0;32m~/anaconda3/lib/python3.7/site-packages/networkx/algorithms/distance_measures.py\u001b[0m in \u001b[0;36mdiameter\u001b[0;34m(G, e, usebounds)\u001b[0m\n\u001b[1;32m    274\u001b[0m         \u001b[0;32mreturn\u001b[0m \u001b[0mextrema_bounding\u001b[0m\u001b[0;34m(\u001b[0m\u001b[0mG\u001b[0m\u001b[0;34m,\u001b[0m \u001b[0mcompute\u001b[0m\u001b[0;34m=\u001b[0m\u001b[0;34m\"diameter\"\u001b[0m\u001b[0;34m)\u001b[0m\u001b[0;34m\u001b[0m\u001b[0;34m\u001b[0m\u001b[0m\n\u001b[1;32m    275\u001b[0m     \u001b[0;32mif\u001b[0m \u001b[0me\u001b[0m \u001b[0;32mis\u001b[0m \u001b[0;32mNone\u001b[0m\u001b[0;34m:\u001b[0m\u001b[0;34m\u001b[0m\u001b[0;34m\u001b[0m\u001b[0m\n\u001b[0;32m--> 276\u001b[0;31m         \u001b[0me\u001b[0m \u001b[0;34m=\u001b[0m \u001b[0meccentricity\u001b[0m\u001b[0;34m(\u001b[0m\u001b[0mG\u001b[0m\u001b[0;34m)\u001b[0m\u001b[0;34m\u001b[0m\u001b[0;34m\u001b[0m\u001b[0m\n\u001b[0m\u001b[1;32m    277\u001b[0m     \u001b[0;32mreturn\u001b[0m \u001b[0mmax\u001b[0m\u001b[0;34m(\u001b[0m\u001b[0me\u001b[0m\u001b[0;34m.\u001b[0m\u001b[0mvalues\u001b[0m\u001b[0;34m(\u001b[0m\u001b[0;34m)\u001b[0m\u001b[0;34m)\u001b[0m\u001b[0;34m\u001b[0m\u001b[0;34m\u001b[0m\u001b[0m\n\u001b[1;32m    278\u001b[0m \u001b[0;34m\u001b[0m\u001b[0m\n",
      "\u001b[0;32m~/anaconda3/lib/python3.7/site-packages/networkx/algorithms/distance_measures.py\u001b[0m in \u001b[0;36meccentricity\u001b[0;34m(G, v, sp)\u001b[0m\n\u001b[1;32m    239\u001b[0m                 msg = ('Found infinite path length because the graph is not'\n\u001b[1;32m    240\u001b[0m                        ' connected')\n\u001b[0;32m--> 241\u001b[0;31m             \u001b[0;32mraise\u001b[0m \u001b[0mnetworkx\u001b[0m\u001b[0;34m.\u001b[0m\u001b[0mNetworkXError\u001b[0m\u001b[0;34m(\u001b[0m\u001b[0mmsg\u001b[0m\u001b[0;34m)\u001b[0m\u001b[0;34m\u001b[0m\u001b[0;34m\u001b[0m\u001b[0m\n\u001b[0m\u001b[1;32m    242\u001b[0m \u001b[0;34m\u001b[0m\u001b[0m\n\u001b[1;32m    243\u001b[0m         \u001b[0me\u001b[0m\u001b[0;34m[\u001b[0m\u001b[0mn\u001b[0m\u001b[0;34m]\u001b[0m \u001b[0;34m=\u001b[0m \u001b[0mmax\u001b[0m\u001b[0;34m(\u001b[0m\u001b[0mlength\u001b[0m\u001b[0;34m.\u001b[0m\u001b[0mvalues\u001b[0m\u001b[0;34m(\u001b[0m\u001b[0;34m)\u001b[0m\u001b[0;34m)\u001b[0m\u001b[0;34m\u001b[0m\u001b[0;34m\u001b[0m\u001b[0m\n",
      "\u001b[0;31mNetworkXError\u001b[0m: Found infinite path length because the graph is not connected"
     ]
    }
   ],
   "source": [
    "nx.diameter(graph)"
   ]
  },
  {
   "cell_type": "markdown",
   "metadata": {},
   "source": [
    "Диаметр графа равен бесконечности"
   ]
  },
  {
   "cell_type": "code",
   "execution_count": 13,
   "metadata": {},
   "outputs": [],
   "source": [
    "biggest_comp = max(nx.connected_component_subgraphs(graph), key=len)"
   ]
  },
  {
   "cell_type": "code",
   "execution_count": 14,
   "metadata": {},
   "outputs": [
    {
     "data": {
      "text/plain": [
       "13"
      ]
     },
     "execution_count": 14,
     "metadata": {},
     "output_type": "execute_result"
    }
   ],
   "source": [
    "nx.diameter(biggest_comp)"
   ]
  },
  {
   "cell_type": "markdown",
   "metadata": {},
   "source": [
    "Диаметр самой большой связной компоненты графа - 13"
   ]
  },
  {
   "cell_type": "code",
   "execution_count": 22,
   "metadata": {},
   "outputs": [
    {
     "name": "stdout",
     "output_type": "stream",
     "text": [
      "Collecting python-louvain\n",
      "  Downloading https://files.pythonhosted.org/packages/31/d4/d244fa4ca96af747b9204ce500e8919ce72eab60de2129b22a45434f1598/python-louvain-0.14.tar.gz\n",
      "Requirement already satisfied: networkx in /home/lera/anaconda3/lib/python3.7/site-packages (from python-louvain) (2.3)\n",
      "Requirement already satisfied: numpy in /home/lera/anaconda3/lib/python3.7/site-packages (from python-louvain) (1.17.2)\n",
      "Requirement already satisfied: decorator>=4.3.0 in /home/lera/anaconda3/lib/python3.7/site-packages (from networkx->python-louvain) (4.4.0)\n",
      "Building wheels for collected packages: python-louvain\n",
      "  Building wheel for python-louvain (setup.py) ... \u001b[?25ldone\n",
      "\u001b[?25h  Created wheel for python-louvain: filename=python_louvain-0.14-cp37-none-any.whl size=9292 sha256=1a3be97e22d1f60d62cd61d4b4cb9610aadadac8c2b0f8a338bd0a67c8eca9d4\n",
      "  Stored in directory: /home/lera/.cache/pip/wheels/e7/8d/24/6b3a464bb23e96ecba3f68868e85721534fd8158a9cd7b426b\n",
      "Successfully built python-louvain\n",
      "Installing collected packages: python-louvain\n",
      "Successfully installed python-louvain-0.14\n"
     ]
    }
   ],
   "source": [
    "!pip install --user python-louvain"
   ]
  },
  {
   "cell_type": "code",
   "execution_count": 27,
   "metadata": {},
   "outputs": [],
   "source": [
    "from community import community_louvain"
   ]
  },
  {
   "cell_type": "code",
   "execution_count": 28,
   "metadata": {},
   "outputs": [],
   "source": [
    "part = community_louvain.best_partition(graph)"
   ]
  },
  {
   "cell_type": "code",
   "execution_count": 59,
   "metadata": {},
   "outputs": [
    {
     "data": {
      "image/png": "[encoded data removed]",
      "text/plain": [
       "<Figure size 1440x1440 with 1 Axes>"
      ]
     },
     "metadata": {},
     "output_type": "display_data"
    }
   ],
   "source": [
    "values = [part.get(node) for node in graph.nodes()]\n",
    "pos = nx.spring_layout(graph)\n",
    "\n",
    "plt.rcParams['figure.figsize'] = [20, 20]\n",
    "nx.draw_networkx(graph, pos = pos, \n",
    "                 cmap = plt.get_cmap('tab10'), node_color = values,\n",
    "                 node_size=20, width=0.3, edge_color='grey', with_labels=False)\n",
    "limits=plt.axis('off') "
   ]
  },
  {
   "cell_type": "code",
   "execution_count": 50,
   "metadata": {},
   "outputs": [
    {
     "data": {
      "text/plain": [
       "{0: 4,\n",
       " 1: 19,\n",
       " 2: 16,\n",
       " 3: 3,\n",
       " 4: 21,\n",
       " 5: 3,\n",
       " 6: 2,\n",
       " 7: 2,\n",
       " 8: 14,\n",
       " 9: 3,\n",
       " 10: 3,\n",
       " 11: 2,\n",
       " 12: 21,\n",
       " 13: 13,\n",
       " 14: 6,\n",
       " 15: 17,\n",
       " 16: 7,\n",
       " 17: 22,\n",
       " 18: 2,\n",
       " 19: 6,\n",
       " 20: 10,\n",
       " 21: 2,\n",
       " 22: 7,\n",
       " 23: 3,\n",
       " 24: 3,\n",
       " 25: 4,\n",
       " 26: 2,\n",
       " 27: 3,\n",
       " 28: 2,\n",
       " 29: 4,\n",
       " 30: 2,\n",
       " 31: 3,\n",
       " 32: 6,\n",
       " 33: 5,\n",
       " 34: 2,\n",
       " 35: 2,\n",
       " 36: 2,\n",
       " 37: 2,\n",
       " 38: 2,\n",
       " 39: 2,\n",
       " 40: 2,\n",
       " 41: 2,\n",
       " 42: 2,\n",
       " 43: 2,\n",
       " 44: 3,\n",
       " 45: 4,\n",
       " 46: 2,\n",
       " 47: 2,\n",
       " 48: 2,\n",
       " 49: 2,\n",
       " 50: 2,\n",
       " 51: 5,\n",
       " 52: 2,\n",
       " 53: 2,\n",
       " 54: 2,\n",
       " 55: 2,\n",
       " 56: 2,\n",
       " 57: 2,\n",
       " 58: 2,\n",
       " 59: 2}"
      ]
     },
     "execution_count": 50,
     "metadata": {},
     "output_type": "execute_result"
    }
   ],
   "source": [
    "{i:list(part.values()).count(i)  for i in set(part.values())} #количество белков в каждой группе"
   ]
  },
  {
   "cell_type": "code",
   "execution_count": 81,
   "metadata": {},
   "outputs": [
    {
     "name": "stdout",
     "output_type": "stream",
     "text": [
      "0\n",
      "YKL166C\n",
      "YIL033C\n",
      "YPL203W\n",
      "YJL164C\n",
      "1\n",
      "YCR002C\n",
      "YHR107C\n",
      "YJR076C\n",
      "YLR314C\n",
      "YDL225W\n",
      "YDR218C\n",
      "YOL090W\n",
      "YDR097C\n",
      "YCR092C\n",
      "YAR007C\n",
      "YNL312W\n",
      "YJL173C\n",
      "YGR059W\n",
      "YNL082W\n",
      "YDL156W\n",
      "YER095W\n",
      "YDR076W\n",
      "YJL060W\n",
      "YLR131C\n",
      "2\n",
      "YNL290W\n",
      "YOL094C\n",
      "YBR087W\n",
      "YJR068W\n",
      "YOR217W\n",
      "YBL035C\n",
      "YIR008C\n",
      "YKL045W\n",
      "YNL102W\n",
      "YPR175W\n",
      "YBR278W\n",
      "YNL262W\n",
      "YOR144C\n",
      "YMR078C\n",
      "YCL042W\n",
      "YPR167C\n",
      "3\n",
      "YOR212W\n",
      "YJR086W\n",
      "YHR005C\n",
      "4\n",
      "YCL029C\n",
      "YER016W\n",
      "YLR045C\n",
      "YJL042W\n",
      "YOR272W\n",
      "YLR175W\n",
      "YDR016C\n",
      "YGL061C\n",
      "YBL034C\n",
      "YOR265W\n",
      "YMR138W\n",
      "YPL241C\n",
      "YJR089W\n",
      "YKL049C\n",
      "YKL089W\n",
      "YOR058C\n",
      "YKR037C\n",
      "YDR060W\n",
      "YBL032W\n",
      "YDL117W\n",
      "YPL032C\n",
      "5\n",
      "YPR018W\n",
      "YBR195C\n",
      "YML102W\n",
      "6\n",
      "YOR132W\n",
      "YOR069W\n",
      "7\n",
      "YGR092W\n",
      "YIL106W\n",
      "8\n",
      "YBR160W\n",
      "YMR199W\n",
      "YPL256C\n",
      "YDL155W\n",
      "YPR119W\n",
      "YBR135W\n",
      "YPR120C\n",
      "YAL040C\n",
      "YGR108W\n",
      "YGR109C\n",
      "YLR210W\n",
      "YLR079W\n",
      "YPL014W\n",
      "YJL187C\n",
      "9\n",
      "YFR015C\n",
      "YLR258W\n",
      "YJL137C\n",
      "10\n",
      "YJR093C\n",
      "YPR107C\n",
      "YAL043C\n",
      "11\n",
      "YOR269W\n",
      "YLR254C\n",
      "12\n",
      "YBR126C\n",
      "YML100W\n",
      "YBR060C\n",
      "YHR118C\n",
      "YLL004W\n",
      "YNL261W\n",
      "YPR162C\n",
      "YDR074W\n",
      "YMR261C\n",
      "YLR274W\n",
      "YGL201C\n",
      "YML065W\n",
      "YBL023C\n",
      "YEL032W\n",
      "YBR202W\n",
      "YPR019W\n",
      "YJL194W\n",
      "YDL017W\n",
      "YDR052C\n",
      "YLR103C\n",
      "YIL177C\n",
      "13\n",
      "YBL084C\n",
      "YLR127C\n",
      "YGL240W\n",
      "YHR166C\n",
      "YKL022C\n",
      "YNL172W\n",
      "YDL008W\n",
      "YDR118W\n",
      "YGL003C\n",
      "YGL116W\n",
      "YLR102C\n",
      "YOR249C\n",
      "YFR036W\n",
      "14\n",
      "YDL056W\n",
      "YLR182W\n",
      "YER001W\n",
      "YOL131W\n",
      "YIL131C\n",
      "YMR144W\n",
      "15\n",
      "YHR172W\n",
      "YLR212C\n",
      "YNL126W\n",
      "YER018C\n",
      "YMR117C\n",
      "YBR109C\n",
      "YDR356W\n",
      "YOR257W\n",
      "YNL188W\n",
      "YAL047C\n",
      "YGL093W\n",
      "YNL225C\n",
      "YKL042W\n",
      "YOR373W\n",
      "YPL124W\n",
      "YPL255W\n",
      "YLL021W\n",
      "16\n",
      "YPL031C\n",
      "YIL050W\n",
      "YDL127W\n",
      "YHR071W\n",
      "YNL289W\n",
      "YLR190W\n",
      "YDR146C\n",
      "17\n",
      "YDL003W\n",
      "YFL008W\n",
      "YCL024W\n",
      "YKR048C\n",
      "YJL074C\n",
      "YNL078W\n",
      "YDR225W\n",
      "YNL030W\n",
      "YDR224C\n",
      "YBL003C\n",
      "YBL002W\n",
      "YNL031C\n",
      "YDR507C\n",
      "YLR196W\n",
      "YOL070C\n",
      "YMR001C\n",
      "YJL019W\n",
      "YOL012C\n",
      "YIL026C\n",
      "YCR040W\n",
      "YLR183C\n",
      "YMR075W\n",
      "18\n",
      "YGL200C\n",
      "YML012W\n",
      "19\n",
      "YDR328C\n",
      "YFL009W\n",
      "YJR090C\n",
      "YDL132W\n",
      "YIL046W\n",
      "YDR054C\n",
      "20\n",
      "YJL026W\n",
      "YGR180C\n",
      "YER070W\n",
      "YIL066C\n",
      "YJL115W\n",
      "YPL153C\n",
      "YHR023W\n",
      "YPL128C\n",
      "YNL134C\n",
      "YER111C\n",
      "21\n",
      "YKL001C\n",
      "YNL311C\n",
      "22\n",
      "YGL122C\n",
      "YOL123W\n",
      "YDR502C\n",
      "YPL125W\n",
      "YBR017W\n",
      "YMR296C\n",
      "YKR046C\n",
      "23\n",
      "YHR135C\n",
      "YER123W\n",
      "YNL154C\n",
      "24\n",
      "YBR040W\n",
      "YCL040W\n",
      "YBR200W\n",
      "25\n",
      "YCL055W\n",
      "YGL036W\n",
      "YGL192W\n",
      "YBR057C\n",
      "26\n",
      "YDR400W\n",
      "YCR059C\n",
      "27\n",
      "YJR006W\n",
      "YJR043C\n",
      "YDL102W\n",
      "28\n",
      "YCR042C\n",
      "YML114C\n",
      "29\n",
      "YGL008C\n",
      "YPL036W\n",
      "YCR024C-A\n",
      "YEL017C-A\n",
      "30\n",
      "YKR083C\n",
      "YKL052C\n",
      "31\n",
      "YAL044C\n",
      "YDR019C\n",
      "YMR189W\n",
      "32\n",
      "YCR034W\n",
      "YGR032W\n",
      "YLR342W\n",
      "YAL053W\n",
      "YML072C\n",
      "YOR153W\n",
      "33\n",
      "YGR098C\n",
      "YDR113C\n",
      "YBR158W\n",
      "YGL207W\n",
      "YBR279W\n",
      "34\n",
      "YMR198W\n",
      "YPR141C\n",
      "35\n",
      "YNL309W\n",
      "YMR053C\n",
      "36\n",
      "YNR044W\n",
      "YGL032C\n",
      "37\n",
      "YPR159W\n",
      "YGR143W\n",
      "38\n",
      "YLL032C\n",
      "YML119W\n",
      "39\n",
      "YJR009C\n",
      "YML053C\n",
      "40\n",
      "YDR032C\n",
      "YCR004C\n",
      "41\n",
      "YBR038W\n",
      "YPR106W\n",
      "42\n",
      "YDR279W\n",
      "YLR154C\n",
      "43\n",
      "YDR348C\n",
      "YMR295C\n",
      "44\n",
      "YHL003C\n",
      "YKL008C\n",
      "YMR298W\n",
      "45\n",
      "YKR099W\n",
      "YLR058C\n",
      "YKL104C\n",
      "YPL111W\n",
      "46\n",
      "YMR048W\n",
      "YNL273W\n",
      "47\n",
      "YPL253C\n",
      "YMR051C\n",
      "48\n",
      "YEL056W\n",
      "YLL022C\n",
      "49\n",
      "YDR361C\n",
      "YPL208W\n",
      "50\n",
      "YJL048C\n",
      "YKL130C\n",
      "51\n",
      "YDR490C\n",
      "YGR086C\n",
      "YKL142W\n",
      "YDR150W\n",
      "YLR466W\n",
      "52\n",
      "YHR086W\n",
      "YDR240C\n",
      "53\n",
      "YBL016W\n",
      "YDR480W\n",
      "54\n",
      "YCL014W\n",
      "YJR092W\n",
      "55\n",
      "YFL045C\n",
      "YLR343W\n",
      "56\n",
      "YOR230W\n",
      "YOR229W\n",
      "57\n",
      "YCR065W\n",
      "YCR041W\n",
      "58\n",
      "YBR078W\n",
      "YNL160W\n",
      "59\n",
      "YJR053W\n",
      "YML064C\n"
     ]
    }
   ],
   "source": [
    "for v in set(part.values()):\n",
    "    print(v)\n",
    "    for key,value in part.items():\n",
    "        if value == v:\n",
    "            print(key)"
   ]
  }
 ],
 "metadata": {
  "kernelspec": {
   "display_name": "Python 3",
   "language": "python",
   "name": "python3"
  },
  "language_info": {
   "codemirror_mode": {
    "name": "ipython",
    "version": 3
   },
   "file_extension": ".py",
   "mimetype": "text/x-python",
   "name": "python",
   "nbconvert_exporter": "python",
   "pygments_lexer": "ipython3",
   "version": "3.7.4"
  }
 },
 "nbformat": 4,
 "nbformat_minor": 2
}
